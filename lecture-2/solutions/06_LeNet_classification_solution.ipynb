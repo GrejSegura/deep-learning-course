{
 "cells": [
  {
   "cell_type": "code",
   "execution_count": 1,
   "metadata": {},
   "outputs": [],
   "source": [
    "import torch\n",
    "import torch.nn as nn\n",
    "import torch.optim as optim\n",
    "import torch.nn.functional as F\n",
    "from torch.autograd import Variable"
   ]
  },
  {
   "cell_type": "code",
   "execution_count": 2,
   "metadata": {},
   "outputs": [],
   "source": [
    "from torchvision import datasets\n",
    "import torchvision.transforms as transforms"
   ]
  },
  {
   "cell_type": "code",
   "execution_count": 3,
   "metadata": {},
   "outputs": [],
   "source": [
    "# transform raw image to tensor\n",
    "\n",
    "transformations = transforms.Compose([transforms.ToTensor()])"
   ]
  },
  {
   "cell_type": "code",
   "execution_count": 4,
   "metadata": {},
   "outputs": [
    {
     "name": "stdout",
     "output_type": "stream",
     "text": [
      "Downloading https://www.cs.toronto.edu/~kriz/cifar-10-python.tar.gz to ./data/cifar-10-python.tar.gz\n",
      "Files already downloaded and verified\n"
     ]
    }
   ],
   "source": [
    "# Load CIFAR-10\n",
    "\n",
    "train_set = datasets.CIFAR10(root='./data', train=True, transform=transformations, download=True)\n",
    "test_set  = datasets.CIFAR10(root='./data', train=False, transform=transformations, download=True)"
   ]
  },
  {
   "cell_type": "code",
   "execution_count": 5,
   "metadata": {},
   "outputs": [],
   "source": [
    "# Load MNIST\n",
    "\n",
    "# train_set = datasets.MNIST(root='./data', train=True, transform=transformations, download=True)\n",
    "# test_set  = datasets.MNIST(root='./data', train=False, transform=transformations, download=True)"
   ]
  },
  {
   "cell_type": "code",
   "execution_count": 6,
   "metadata": {},
   "outputs": [],
   "source": [
    "# number of images to process per batch\n",
    "\n",
    "batch_size = 64"
   ]
  },
  {
   "cell_type": "code",
   "execution_count": 7,
   "metadata": {},
   "outputs": [],
   "source": [
    "# load train set\n",
    "\n",
    "train_set_loader = torch.utils.data.DataLoader(\n",
    "    dataset=train_set,\n",
    "    batch_size=batch_size,\n",
    "    shuffle=False\n",
    ")"
   ]
  },
  {
   "cell_type": "code",
   "execution_count": 8,
   "metadata": {},
   "outputs": [],
   "source": [
    "# load test set\n",
    "\n",
    "test_set_loader = torch.utils.data.DataLoader(\n",
    "    dataset=test_set,\n",
    "    batch_size=batch_size,\n",
    "    shuffle=False\n",
    ")"
   ]
  },
  {
   "cell_type": "markdown",
   "metadata": {},
   "source": [
    "<center><img src=\"img/lenet.png\"></center>"
   ]
  },
  {
   "cell_type": "code",
   "execution_count": 9,
   "metadata": {},
   "outputs": [],
   "source": [
    "class LeNet(nn.Module):\n",
    "    \n",
    "    \"\"\"\n",
    "    input - 3x32x32\n",
    "    C1 - convolution 6@28x28 (5x5 kernel)\n",
    "    ReLU activation\n",
    "    S2 - max pooling 6@14x14 (2x2 kernel, stride 2)\n",
    "\n",
    "    C3 - convolution 16@10x10 (5x5 kernel)\n",
    "    ReLU activation\n",
    "    S4 - max pooling 16@5x5 (2x2 kernel, stride 2)\n",
    "\n",
    "    C5 - convolution 120@1x1 (5x5 kernel)\n",
    "    \n",
    "    F6 - fully-connected layear, 120 neurons\n",
    "    F7 - fully-connected layear, 84 neurons\n",
    "    ReLU activation\n",
    "    \n",
    "    F8 - 10 neurons (output)\n",
    "    \"\"\"\n",
    "        \n",
    "    def __init__(self):\n",
    "        \n",
    "        super(LeNet, self).__init__()\n",
    "        \n",
    "        self.conv1 = nn.Conv2d(3, 6, kernel_size=(5, 5))\n",
    "        self.conv2 = nn.Conv2d(6, 16, kernel_size=(5, 5))\n",
    "        \n",
    "        self.fc1   = nn.Linear(16*5*5, 120)\n",
    "        self.fc2   = nn.Linear(120, 84)\n",
    "        \n",
    "        self.fc3   = nn.Linear(84, 10)\n",
    "\n",
    "    def forward(self, x):\n",
    "        \n",
    "        out = F.relu(self.conv1(x))\n",
    "        out = F.max_pool2d(out, 2)\n",
    "        \n",
    "        out = F.relu(self.conv2(out))\n",
    "        out = F.max_pool2d(out, 2)\n",
    "        \n",
    "        out = out.view(out.size(0), -1)\n",
    "        \n",
    "        out = F.relu(self.fc1(out))\n",
    "        \n",
    "        out = F.relu(self.fc2(out))\n",
    "        \n",
    "        out = self.fc3(out)\n",
    "        \n",
    "        return out"
   ]
  },
  {
   "cell_type": "code",
   "execution_count": 10,
   "metadata": {},
   "outputs": [],
   "source": [
    "model = LeNet()"
   ]
  },
  {
   "cell_type": "code",
   "execution_count": 11,
   "metadata": {},
   "outputs": [],
   "source": [
    "optimizer = optim.SGD(model.parameters(), lr=0.01, momentum=0.9)"
   ]
  },
  {
   "cell_type": "code",
   "execution_count": 12,
   "metadata": {},
   "outputs": [],
   "source": [
    "criterion = nn.CrossEntropyLoss()"
   ]
  },
  {
   "cell_type": "code",
   "execution_count": 13,
   "metadata": {},
   "outputs": [
    {
     "name": "stdout",
     "output_type": "stream",
     "text": [
      "=> epoch: 1, train loss: 0.031222\n",
      "=> epoch: 1, test loss: 0.028430, accuracy: 0.339 \n",
      "\n",
      "=> epoch: 2, train loss: 0.024183\n",
      "=> epoch: 2, test loss: 0.023628, accuracy: 0.455 \n",
      "\n",
      "=> epoch: 3, train loss: 0.021503\n",
      "=> epoch: 3, test loss: 0.021061, accuracy: 0.519 \n",
      "\n",
      "=> epoch: 4, train loss: 0.019887\n",
      "=> epoch: 4, test loss: 0.019844, accuracy: 0.551 \n",
      "\n",
      "=> epoch: 5, train loss: 0.018685\n",
      "=> epoch: 5, test loss: 0.019313, accuracy: 0.564 \n",
      "\n",
      "=> epoch: 6, train loss: 0.017668\n",
      "=> epoch: 6, test loss: 0.019354, accuracy: 0.567 \n",
      "\n",
      "=> epoch: 7, train loss: 0.016801\n",
      "=> epoch: 7, test loss: 0.019560, accuracy: 0.577 \n",
      "\n",
      "=> epoch: 8, train loss: 0.016058\n",
      "=> epoch: 8, test loss: 0.019720, accuracy: 0.577 \n",
      "\n",
      "=> epoch: 9, train loss: 0.015613\n",
      "=> epoch: 9, test loss: 0.020277, accuracy: 0.572 \n",
      "\n",
      "=> epoch: 10, train loss: 0.015212\n",
      "=> epoch: 10, test loss: 0.020396, accuracy: 0.564 \n",
      "\n"
     ]
    }
   ],
   "source": [
    "n_epochs = 10\n",
    "\n",
    "for epoch in range(1, n_epochs+1):\n",
    "\n",
    "    # swith to train mode\n",
    "    model = model.train()\n",
    "    \n",
    "    # global statistics\n",
    "    running_train_loss = 0.\n",
    "    \n",
    "    for batch_idx, (inputs, targets) in enumerate(train_set_loader, start=1):\n",
    "\n",
    "        # convert tensor to autograd.Variable\n",
    "        inputs, targets = Variable(inputs), Variable(targets)\n",
    "\n",
    "        # forward pass\n",
    "        predictions = model.forward(inputs)\n",
    "\n",
    "        # calculate loss - cross-entropy\n",
    "        loss = criterion(predictions, targets)\n",
    "        \n",
    "        # accumulate loss\n",
    "        running_train_loss += loss.item()\n",
    "\n",
    "        # compute gradients\n",
    "        loss.backward()\n",
    "        \n",
    "        # update weights based on calculated gradients\n",
    "        optimizer.step()\n",
    "\n",
    "        # clear all gradients after weights are updated\n",
    "        optimizer.zero_grad()\n",
    "\n",
    "    # print epoch statistics    \n",
    "    epoch_train_loss = running_train_loss / len(train_set_loader.dataset)\n",
    "    print('=> epoch: %d, train loss: %.6f' % (epoch, epoch_train_loss))\n",
    "        \n",
    "    # switch to evaluation/test mode\n",
    "    model = model.eval()\n",
    "\n",
    "    # global statistics\n",
    "    running_test_loss = 0.\n",
    "    running_test_corrects = 0.\n",
    "\n",
    "    # disable calculation of gradients\n",
    "    with torch.no_grad():\n",
    "\n",
    "        for batch_idx, (inputs, targets) in enumerate(test_set_loader, start=1):\n",
    "\n",
    "            # convert tensor to autograd.Variable\n",
    "            inputs, targets = Variable(inputs), Variable(targets)\n",
    "            \n",
    "            # forward pass - make predictions\n",
    "            predictions = model.forward(inputs)\n",
    "\n",
    "            # calculate loss\n",
    "            loss = criterion(predictions, targets)\n",
    "\n",
    "            # convert probability to a predicted label\n",
    "            _, prediction_labels = torch.max(predictions.data, 1)\n",
    "            \n",
    "            # calculate how many digits in the batch where predicted correctly\n",
    "            running_test_corrects += torch.sum(prediction_labels == targets.data).item()\n",
    "\n",
    "            # accumulate loss\n",
    "            running_test_loss += loss.item()\n",
    "\n",
    "    # print epoch statistics    \n",
    "    epoch_test_loss = running_test_loss / len(test_set_loader.dataset)\n",
    "    epoch_test_accuracy = running_test_corrects / len(test_set_loader.dataset)\n",
    "    print('=> epoch: %d, test loss: %.6f, accuracy: %.3f \\n' % (epoch, epoch_test_loss, epoch_test_accuracy))"
   ]
  },
  {
   "cell_type": "code",
   "execution_count": null,
   "metadata": {},
   "outputs": [],
   "source": []
  }
 ],
 "metadata": {
  "kernelspec": {
   "display_name": "Python 3",
   "language": "python",
   "name": "python3"
  },
  "language_info": {
   "codemirror_mode": {
    "name": "ipython",
    "version": 3
   },
   "file_extension": ".py",
   "mimetype": "text/x-python",
   "name": "python",
   "nbconvert_exporter": "python",
   "pygments_lexer": "ipython3",
   "version": "3.6.7"
  }
 },
 "nbformat": 4,
 "nbformat_minor": 2
}
