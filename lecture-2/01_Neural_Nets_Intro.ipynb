{
 "cells": [
  {
   "cell_type": "markdown",
   "metadata": {},
   "source": [
    "<h4 align=\"center\">PLEASE OPEN THIS FILE IN JUPYTER, AS GITHUB CAN'T DISPLAY IT PROPERLY.</h4>"
   ]
  },
  {
   "cell_type": "markdown",
   "metadata": {
    "slideshow": {
     "slide_type": "slide"
    }
   },
   "source": [
    "### Artificial Neural Networks\n",
    "\n",
    "* Computing systems vaguely inspired by the biological neural networks that constitute animal brains."
   ]
  },
  {
   "cell_type": "markdown",
   "metadata": {
    "slideshow": {
     "slide_type": "fragment"
    }
   },
   "source": [
    "<center><img src=\"img/brain-neural-network.png\" width=\"700\" /></center>"
   ]
  },
  {
   "cell_type": "markdown",
   "metadata": {
    "slideshow": {
     "slide_type": "slide"
    }
   },
   "source": [
    "* Multilayer perceptron is a universal function approximator, as proven by the universal approximation theorem.\n",
    "\n",
    "<center><img src=\"img/neural-net-extended.png\" width=\"900\" /></center>"
   ]
  },
  {
   "cell_type": "markdown",
   "metadata": {
    "slideshow": {
     "slide_type": "slide"
    }
   },
   "source": [
    "### Artificial Neural Networks - Backpropagation\n",
    "\n",
    "<center><img src=\"img/neural-network-backpropagation.png\" width=\"800\" /></center>"
   ]
  },
  {
   "cell_type": "markdown",
   "metadata": {
    "slideshow": {
     "slide_type": "slide"
    }
   },
   "source": [
    "### Neuron. Looks like ...\n",
    "\n",
    "<center><img src=\"img/neuron-linear-regression.png\" width=\"500\" /></center>"
   ]
  },
  {
   "cell_type": "markdown",
   "metadata": {
    "slideshow": {
     "slide_type": "slide"
    }
   },
   "source": [
    "### Neuron. Looks like ... Linear Regression\n",
    "\n",
    "<center><img src=\"img/neuron-linear-regression.png\" width=\"500\" /></center>\n",
    "\n",
    "<center><img src=\"img/linear-regression-formula.png\" width=\"300\" /></center>"
   ]
  }
 ],
 "metadata": {
  "kernelspec": {
   "display_name": "Python 3",
   "language": "python",
   "name": "python3"
  },
  "language_info": {
   "codemirror_mode": {
    "name": "ipython",
    "version": 3
   },
   "file_extension": ".py",
   "mimetype": "text/x-python",
   "name": "python",
   "nbconvert_exporter": "python",
   "pygments_lexer": "ipython3",
   "version": "3.6.7"
  }
 },
 "nbformat": 4,
 "nbformat_minor": 2
}
