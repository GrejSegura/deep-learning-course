{
 "cells": [
  {
   "cell_type": "markdown",
   "metadata": {},
   "source": [
    "    git clone https://github.com/dubai-open-data-science/deep-learning-course"
   ]
  },
  {
   "cell_type": "markdown",
   "metadata": {},
   "source": [
    "    cd ./deep-learning-course/lecture-2"
   ]
  },
  {
   "cell_type": "markdown",
   "metadata": {},
   "source": [
    "    pip install -r requirements.txt"
   ]
  },
  {
   "cell_type": "markdown",
   "metadata": {},
   "source": [
    "### Run this code to download datasets"
   ]
  },
  {
   "cell_type": "code",
   "execution_count": 1,
   "metadata": {},
   "outputs": [],
   "source": [
    "from torchvision import datasets\n",
    "from sklearn import datasets as sk_datasets"
   ]
  },
  {
   "cell_type": "code",
   "execution_count": 2,
   "metadata": {},
   "outputs": [
    {
     "name": "stdout",
     "output_type": "stream",
     "text": [
      "Files already downloaded and verified\n",
      "Files already downloaded and verified\n"
     ]
    }
   ],
   "source": [
    "# http://scikit-learn.org/stable/auto_examples/linear_model/plot_ols.html\n",
    "diabetes = sk_datasets.load_diabetes()\n",
    "\n",
    "# http://scikit-learn.org/stable/auto_examples/datasets/plot_iris_dataset.html\n",
    "data = sk_datasets.load_iris()\n",
    "\n",
    "# Load MNIST\n",
    "train_set = datasets.MNIST(root='./data', train=True, download=True)\n",
    "test_set  = datasets.MNIST(root='./data', train=False, download=True)\n",
    "\n",
    "# Load CIFAR-10\n",
    "train_set = datasets.CIFAR10(root='./data', train=True, download=True)\n",
    "test_set  = datasets.CIFAR10(root='./data', train=False, download=True)"
   ]
  }
 ],
 "metadata": {
  "kernelspec": {
   "display_name": "Python 3",
   "language": "python",
   "name": "python3"
  },
  "language_info": {
   "codemirror_mode": {
    "name": "ipython",
    "version": 3
   },
   "file_extension": ".py",
   "mimetype": "text/x-python",
   "name": "python",
   "nbconvert_exporter": "python",
   "pygments_lexer": "ipython3",
   "version": "3.6.7"
  }
 },
 "nbformat": 4,
 "nbformat_minor": 2
}
