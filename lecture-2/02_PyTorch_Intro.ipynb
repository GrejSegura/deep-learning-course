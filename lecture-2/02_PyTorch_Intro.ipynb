{
 "cells": [
  {
   "cell_type": "markdown",
   "metadata": {
    "slideshow": {
     "slide_type": "slide"
    }
   },
   "source": [
    "### PyTorch\n",
    "\n",
    "<center><img src=\"img/pytorch-logo.jpeg\" width=\"800\" /></center>"
   ]
  },
  {
   "cell_type": "markdown",
   "metadata": {
    "slideshow": {
     "slide_type": "slide"
    }
   },
   "source": [
    "### What is PyTorch?\n",
    "\n",
    "<center><img src=\"img/pytorch-logo.jpeg\" width=\"400\" /></center>\n",
    "\n",
    "* open-source machine learning library written in Python, C++ and CUDA\n",
    "\n",
    "* has NumPy-like interfaces\n",
    "\n",
    "* provides two core features:\n",
    "    * operations with tensors\n",
    "    * automatic differentiation\n",
    "    \n",
    "    \n",
    "* initialy developed at Facebook\n",
    "\n",
    "https://pytorch.org"
   ]
  },
  {
   "cell_type": "markdown",
   "metadata": {
    "slideshow": {
     "slide_type": "slide"
    }
   },
   "source": [
    "### What are tensors?\n",
    "\n",
    "* Tensors are nothing but multidimensional arrays. \n",
    "\n",
    "<img src=\"img/tensor.jpeg\" width=\"800\">"
   ]
  },
  {
   "cell_type": "markdown",
   "metadata": {
    "slideshow": {
     "slide_type": "slide"
    }
   },
   "source": [
    "### PyTorch Tensor operations - Vector"
   ]
  },
  {
   "cell_type": "code",
   "execution_count": 1,
   "metadata": {
    "slideshow": {
     "slide_type": "fragment"
    }
   },
   "outputs": [],
   "source": [
    "import torch"
   ]
  },
  {
   "cell_type": "code",
   "execution_count": 2,
   "metadata": {
    "slideshow": {
     "slide_type": "fragment"
    }
   },
   "outputs": [],
   "source": [
    "v = torch.tensor([3.5, 2.6, 7.1])"
   ]
  },
  {
   "cell_type": "code",
   "execution_count": 3,
   "metadata": {
    "slideshow": {
     "slide_type": "fragment"
    }
   },
   "outputs": [
    {
     "data": {
      "text/plain": [
       "tensor([3.5000, 2.6000, 7.1000])"
      ]
     },
     "execution_count": 3,
     "metadata": {},
     "output_type": "execute_result"
    }
   ],
   "source": [
    "v"
   ]
  },
  {
   "cell_type": "code",
   "execution_count": 4,
   "metadata": {
    "slideshow": {
     "slide_type": "fragment"
    }
   },
   "outputs": [
    {
     "data": {
      "text/plain": [
       "torch.Tensor"
      ]
     },
     "execution_count": 4,
     "metadata": {},
     "output_type": "execute_result"
    }
   ],
   "source": [
    "type(v)"
   ]
  },
  {
   "cell_type": "code",
   "execution_count": 5,
   "metadata": {
    "slideshow": {
     "slide_type": "fragment"
    }
   },
   "outputs": [
    {
     "data": {
      "text/plain": [
       "torch.Size([3])"
      ]
     },
     "execution_count": 5,
     "metadata": {},
     "output_type": "execute_result"
    }
   ],
   "source": [
    "v.shape"
   ]
  },
  {
   "cell_type": "markdown",
   "metadata": {
    "slideshow": {
     "slide_type": "slide"
    }
   },
   "source": [
    "### PyTorch Tensor operations - Matrix"
   ]
  },
  {
   "cell_type": "code",
   "execution_count": 6,
   "metadata": {
    "slideshow": {
     "slide_type": "fragment"
    }
   },
   "outputs": [],
   "source": [
    "m = torch.ones(3, 3)"
   ]
  },
  {
   "cell_type": "code",
   "execution_count": 7,
   "metadata": {
    "slideshow": {
     "slide_type": "fragment"
    }
   },
   "outputs": [
    {
     "data": {
      "text/plain": [
       "tensor([[1., 1., 1.],\n",
       "        [1., 1., 1.],\n",
       "        [1., 1., 1.]])"
      ]
     },
     "execution_count": 7,
     "metadata": {},
     "output_type": "execute_result"
    }
   ],
   "source": [
    "m"
   ]
  },
  {
   "cell_type": "code",
   "execution_count": 8,
   "metadata": {
    "slideshow": {
     "slide_type": "fragment"
    }
   },
   "outputs": [
    {
     "data": {
      "text/plain": [
       "torch.Size([3, 3])"
      ]
     },
     "execution_count": 8,
     "metadata": {},
     "output_type": "execute_result"
    }
   ],
   "source": [
    "m.shape"
   ]
  },
  {
   "cell_type": "markdown",
   "metadata": {
    "slideshow": {
     "slide_type": "slide"
    }
   },
   "source": [
    "### Multiply matrix by vector"
   ]
  },
  {
   "cell_type": "code",
   "execution_count": 9,
   "metadata": {
    "slideshow": {
     "slide_type": "fragment"
    }
   },
   "outputs": [],
   "source": [
    "m = torch.rand(5, 5)"
   ]
  },
  {
   "cell_type": "code",
   "execution_count": 10,
   "metadata": {
    "slideshow": {
     "slide_type": "fragment"
    }
   },
   "outputs": [
    {
     "data": {
      "text/plain": [
       "tensor([[0.9645, 0.8333, 0.3763, 0.7839, 0.6692],\n",
       "        [0.2748, 0.7747, 0.9954, 0.1033, 0.3330],\n",
       "        [0.8148, 0.9895, 0.7602, 0.9952, 0.6176],\n",
       "        [0.2867, 0.8964, 0.1525, 0.7510, 0.0919],\n",
       "        [0.6953, 0.5642, 0.2176, 0.1922, 0.3283]])"
      ]
     },
     "execution_count": 10,
     "metadata": {},
     "output_type": "execute_result"
    }
   ],
   "source": [
    "m"
   ]
  },
  {
   "cell_type": "code",
   "execution_count": 11,
   "metadata": {
    "slideshow": {
     "slide_type": "fragment"
    }
   },
   "outputs": [],
   "source": [
    "v = torch.rand(5, 1)"
   ]
  },
  {
   "cell_type": "code",
   "execution_count": 12,
   "metadata": {
    "slideshow": {
     "slide_type": "fragment"
    }
   },
   "outputs": [
    {
     "data": {
      "text/plain": [
       "tensor([[0.0796],\n",
       "        [0.2890],\n",
       "        [0.1500],\n",
       "        [0.8356],\n",
       "        [0.0593]])"
      ]
     },
     "execution_count": 12,
     "metadata": {},
     "output_type": "execute_result"
    }
   ],
   "source": [
    "v"
   ]
  },
  {
   "cell_type": "code",
   "execution_count": 13,
   "metadata": {
    "slideshow": {
     "slide_type": "fragment"
    }
   },
   "outputs": [
    {
     "data": {
      "text/plain": [
       "tensor([[0.0767, 0.0663, 0.0299, 0.0624, 0.0532],\n",
       "        [0.0794, 0.2239, 0.2877, 0.0299, 0.0962],\n",
       "        [0.1222, 0.1484, 0.1140, 0.1492, 0.0926],\n",
       "        [0.2396, 0.7490, 0.1274, 0.6276, 0.0768],\n",
       "        [0.0412, 0.0335, 0.0129, 0.0114, 0.0195]])"
      ]
     },
     "execution_count": 13,
     "metadata": {},
     "output_type": "execute_result"
    }
   ],
   "source": [
    "m * v"
   ]
  },
  {
   "cell_type": "markdown",
   "metadata": {
    "slideshow": {
     "slide_type": "slide"
    }
   },
   "source": [
    "### Converting a PyTorch Tensor to a NumPy Array"
   ]
  },
  {
   "cell_type": "code",
   "execution_count": 14,
   "metadata": {
    "slideshow": {
     "slide_type": "fragment"
    }
   },
   "outputs": [],
   "source": [
    "a = torch.randn(10)"
   ]
  },
  {
   "cell_type": "code",
   "execution_count": 15,
   "metadata": {
    "slideshow": {
     "slide_type": "fragment"
    }
   },
   "outputs": [
    {
     "data": {
      "text/plain": [
       "tensor([ 0.4183,  0.0478,  0.8503, -0.0604,  0.6550,  0.9678,  0.4597,  0.0293,\n",
       "        -0.7070, -0.6939])"
      ]
     },
     "execution_count": 15,
     "metadata": {},
     "output_type": "execute_result"
    }
   ],
   "source": [
    "a"
   ]
  },
  {
   "cell_type": "code",
   "execution_count": 16,
   "metadata": {
    "slideshow": {
     "slide_type": "fragment"
    }
   },
   "outputs": [
    {
     "data": {
      "text/plain": [
       "array([ 0.41831252,  0.04776888,  0.8502592 , -0.06041376,  0.65495557,\n",
       "        0.9677834 ,  0.4596742 ,  0.02927256, -0.70699877, -0.6939419 ],\n",
       "      dtype=float32)"
      ]
     },
     "execution_count": 16,
     "metadata": {},
     "output_type": "execute_result"
    }
   ],
   "source": [
    "a.numpy()"
   ]
  },
  {
   "cell_type": "markdown",
   "metadata": {
    "slideshow": {
     "slide_type": "slide"
    }
   },
   "source": [
    "### Converting NumPy Array to PyTorch Tensor"
   ]
  },
  {
   "cell_type": "code",
   "execution_count": 17,
   "metadata": {
    "slideshow": {
     "slide_type": "fragment"
    }
   },
   "outputs": [],
   "source": [
    "import numpy as np"
   ]
  },
  {
   "cell_type": "code",
   "execution_count": 18,
   "metadata": {
    "slideshow": {
     "slide_type": "fragment"
    }
   },
   "outputs": [
    {
     "data": {
      "text/plain": [
       "array([1., 1., 1., 1., 1., 1., 1.])"
      ]
     },
     "execution_count": 18,
     "metadata": {},
     "output_type": "execute_result"
    }
   ],
   "source": [
    "a = np.ones(7)\n",
    "a"
   ]
  },
  {
   "cell_type": "code",
   "execution_count": 19,
   "metadata": {
    "slideshow": {
     "slide_type": "fragment"
    }
   },
   "outputs": [
    {
     "data": {
      "text/plain": [
       "tensor([1., 1., 1., 1., 1., 1., 1.], dtype=torch.float64)"
      ]
     },
     "execution_count": 19,
     "metadata": {},
     "output_type": "execute_result"
    }
   ],
   "source": [
    "b = torch.from_numpy(a)\n",
    "b"
   ]
  },
  {
   "cell_type": "markdown",
   "metadata": {
    "slideshow": {
     "slide_type": "slide"
    }
   },
   "source": [
    "### autograd.Variable"
   ]
  },
  {
   "cell_type": "markdown",
   "metadata": {
    "slideshow": {
     "slide_type": "fragment"
    }
   },
   "source": [
    "<center><img src=\"img/autograd-variable.png\" width=\"400\" /></center>"
   ]
  },
  {
   "cell_type": "markdown",
   "metadata": {
    "slideshow": {
     "slide_type": "fragment"
    }
   },
   "source": [
    "* part of **autograd** module of PyTorch\n",
    "* simply a wraper around **torch.Tensor**\n",
    "* are used to build computational graph\n",
    "* automatically accumulate gradient w.r.t. this variable (can be controlled using **requires_grad** parameter)"
   ]
  },
  {
   "cell_type": "markdown",
   "metadata": {
    "slideshow": {
     "slide_type": "slide"
    }
   },
   "source": [
    "### autograd.Variable"
   ]
  },
  {
   "cell_type": "code",
   "execution_count": 20,
   "metadata": {
    "slideshow": {
     "slide_type": "fragment"
    }
   },
   "outputs": [],
   "source": [
    "from torch.autograd import Variable"
   ]
  },
  {
   "cell_type": "code",
   "execution_count": 21,
   "metadata": {
    "slideshow": {
     "slide_type": "fragment"
    }
   },
   "outputs": [],
   "source": [
    "x = Variable(torch.ones(2, 2), requires_grad=True)"
   ]
  },
  {
   "cell_type": "code",
   "execution_count": 22,
   "metadata": {
    "slideshow": {
     "slide_type": "fragment"
    }
   },
   "outputs": [],
   "source": [
    "y = x + 100"
   ]
  },
  {
   "cell_type": "code",
   "execution_count": 23,
   "metadata": {
    "slideshow": {
     "slide_type": "fragment"
    }
   },
   "outputs": [],
   "source": [
    "z = 2 * (y ** 2)"
   ]
  },
  {
   "cell_type": "code",
   "execution_count": 24,
   "metadata": {
    "slideshow": {
     "slide_type": "fragment"
    }
   },
   "outputs": [
    {
     "data": {
      "text/plain": [
       "tensor([[20402., 20402.],\n",
       "        [20402., 20402.]], grad_fn=<MulBackward>)"
      ]
     },
     "execution_count": 24,
     "metadata": {},
     "output_type": "execute_result"
    }
   ],
   "source": [
    "z"
   ]
  },
  {
   "cell_type": "code",
   "execution_count": 25,
   "metadata": {
    "slideshow": {
     "slide_type": "fragment"
    }
   },
   "outputs": [],
   "source": [
    "out = torch.mean(z)"
   ]
  },
  {
   "cell_type": "code",
   "execution_count": 26,
   "metadata": {
    "slideshow": {
     "slide_type": "fragment"
    }
   },
   "outputs": [
    {
     "data": {
      "text/plain": [
       "tensor(20402., grad_fn=<MeanBackward1>)"
      ]
     },
     "execution_count": 26,
     "metadata": {},
     "output_type": "execute_result"
    }
   ],
   "source": [
    "out"
   ]
  },
  {
   "cell_type": "code",
   "execution_count": 27,
   "metadata": {
    "slideshow": {
     "slide_type": "fragment"
    }
   },
   "outputs": [],
   "source": [
    "# computes the sum of gradients of given tensors w.r.t. graph leaves\n",
    "out.backward()"
   ]
  },
  {
   "cell_type": "code",
   "execution_count": 28,
   "metadata": {
    "slideshow": {
     "slide_type": "fragment"
    }
   },
   "outputs": [
    {
     "data": {
      "text/plain": [
       "tensor([[101., 101.],\n",
       "        [101., 101.]])"
      ]
     },
     "execution_count": 28,
     "metadata": {},
     "output_type": "execute_result"
    }
   ],
   "source": [
    "x.grad"
   ]
  },
  {
   "cell_type": "markdown",
   "metadata": {
    "slideshow": {
     "slide_type": "slide"
    }
   },
   "source": [
    "### Simple autograd example - Regression"
   ]
  },
  {
   "cell_type": "code",
   "execution_count": 29,
   "metadata": {
    "slideshow": {
     "slide_type": "fragment"
    }
   },
   "outputs": [],
   "source": [
    "# Input feature vector\n",
    "\n",
    "x = [1., 2., 3., 4., 5.]"
   ]
  },
  {
   "cell_type": "code",
   "execution_count": 30,
   "metadata": {
    "slideshow": {
     "slide_type": "fragment"
    }
   },
   "outputs": [],
   "source": [
    "# Target variables\n",
    "\n",
    "y = [10., 20., 30., 40., 50.]"
   ]
  },
  {
   "cell_type": "code",
   "execution_count": 31,
   "metadata": {
    "slideshow": {
     "slide_type": "fragment"
    }
   },
   "outputs": [],
   "source": [
    "# Weight / Bias\n",
    "\n",
    "w = Variable(torch.tensor([1.]), requires_grad=True)"
   ]
  },
  {
   "cell_type": "markdown",
   "metadata": {
    "slideshow": {
     "slide_type": "fragment"
    }
   },
   "source": [
    "<center><img src=\"img/linear-regression-graph.png\" width=\"600\"></center>"
   ]
  },
  {
   "cell_type": "code",
   "execution_count": 32,
   "metadata": {
    "slideshow": {
     "slide_type": "slide"
    }
   },
   "outputs": [
    {
     "name": "stdout",
     "output_type": "stream",
     "text": [
      "\t x=1.0, y=10.0, w.grad=-18.0\n",
      "\t x=2.0, y=20.0, w.grad=-70.55999755859375\n",
      "\t x=3.0, y=30.0, w.grad=-146.0592041015625\n",
      "\t x=4.0, y=40.0, w.grad=-212.92185974121094\n",
      "\t x=5.0, y=50.0, w.grad=-226.22947692871094\n",
      "Loss at epoch #1: 511.797760 \n",
      "\n",
      "\t x=1.0, y=10.0, w.grad=-4.524589538574219\n",
      "\t x=2.0, y=20.0, w.grad=-17.73638916015625\n",
      "\t x=3.0, y=30.0, w.grad=-36.71432876586914\n",
      "\t x=4.0, y=40.0, w.grad=-53.521331787109375\n",
      "\t x=5.0, y=50.0, w.grad=-56.866416931152344\n",
      "Loss at epoch #2: 32.337894 \n",
      "\n",
      "\t x=1.0, y=10.0, w.grad=-1.1373271942138672\n",
      "\t x=2.0, y=20.0, w.grad=-4.458320617675781\n",
      "\t x=3.0, y=30.0, w.grad=-9.228721618652344\n",
      "\t x=4.0, y=40.0, w.grad=-13.45343017578125\n",
      "\t x=5.0, y=50.0, w.grad=-14.294281005859375\n",
      "Loss at epoch #3: 2.043265 \n",
      "\n",
      "\t x=1.0, y=10.0, w.grad=-0.2858867645263672\n",
      "\t x=2.0, y=20.0, w.grad=-1.1206741333007812\n",
      "\t x=3.0, y=30.0, w.grad=-2.3197975158691406\n",
      "\t x=4.0, y=40.0, w.grad=-3.381744384765625\n",
      "\t x=5.0, y=50.0, w.grad=-3.5931015014648438\n",
      "Loss at epoch #4: 0.129104 \n",
      "\n",
      "\t x=1.0, y=10.0, w.grad=-0.07186317443847656\n",
      "\t x=2.0, y=20.0, w.grad=-0.28170013427734375\n",
      "\t x=3.0, y=30.0, w.grad=-0.5831222534179688\n",
      "\t x=4.0, y=40.0, w.grad=-0.850067138671875\n",
      "\t x=5.0, y=50.0, w.grad=-0.903167724609375\n",
      "Loss at epoch #5: 0.008157 \n",
      "\n",
      "Final: w = 9.9910\n"
     ]
    }
   ],
   "source": [
    "# training iterations\n",
    "\n",
    "for epoch in range(5):\n",
    "    \n",
    "    for x_i, y_i in zip(x, y):\n",
    "        \n",
    "        # compute predicted target variable\n",
    "        y_pred = x_i * w\n",
    "                \n",
    "        # compute Mean Squared Error (MSE)\n",
    "        loss = (y_pred - y_i) ** 2\n",
    "        \n",
    "        # compute gradients\n",
    "        loss.backward()\n",
    "        \n",
    "        print('\\t x={x_i}, y={y_i}, w.grad={w.grad[0]}'.format(**locals()))\n",
    "        \n",
    "        # make one step towards the local minima, with learning rate 0.01\n",
    "        w.data -= 0.01 * w.grad.data\n",
    "        \n",
    "        # clear gradients after updating weights\n",
    "        w.grad.data.zero_()\n",
    "        \n",
    "    print('Loss at epoch #%d: %.6f \\n' % (epoch+1, loss.data[0]))\n",
    "\n",
    "print('Final: w = %.4f' % w.data)"
   ]
  },
  {
   "cell_type": "markdown",
   "metadata": {
    "slideshow": {
     "slide_type": "slide"
    }
   },
   "source": [
    "### Linear Regression using PyTorch"
   ]
  },
  {
   "cell_type": "markdown",
   "metadata": {
    "slideshow": {
     "slide_type": "fragment"
    }
   },
   "source": [
    "The diabetes dataset consists of 10 physiological variables (age, sex,\n",
    "weight, blood pressure) measure on 442 patients, and an indication of\n",
    "disease progression after one year"
   ]
  },
  {
   "cell_type": "markdown",
   "metadata": {
    "slideshow": {
     "slide_type": "fragment"
    }
   },
   "source": [
    "* **Samples total** - 442\n",
    "* **Dimensionality** - 10\n",
    "* **Features** - real, -.2 < x < .2\n",
    "* **Targets** - integer 25 - 346"
   ]
  },
  {
   "cell_type": "markdown",
   "metadata": {
    "slideshow": {
     "slide_type": "slide"
    }
   },
   "source": [
    "##### Load dataset from scikit-learn"
   ]
  },
  {
   "cell_type": "code",
   "execution_count": 33,
   "metadata": {
    "slideshow": {
     "slide_type": "fragment"
    }
   },
   "outputs": [],
   "source": [
    "from sklearn import datasets\n",
    "\n",
    "# http://scikit-learn.org/stable/auto_examples/linear_model/plot_ols.html\n",
    "diabetes = datasets.load_diabetes()\n",
    "\n",
    "X = diabetes.data[:]\n",
    "y = diabetes.target[:].reshape(-1,1)"
   ]
  },
  {
   "cell_type": "markdown",
   "metadata": {
    "slideshow": {
     "slide_type": "slide"
    }
   },
   "source": [
    "### Define Neural Network class"
   ]
  },
  {
   "cell_type": "code",
   "execution_count": 34,
   "metadata": {
    "slideshow": {
     "slide_type": "fragment"
    }
   },
   "outputs": [],
   "source": [
    "from torch import nn"
   ]
  },
  {
   "cell_type": "code",
   "execution_count": 35,
   "metadata": {
    "slideshow": {
     "slide_type": "fragment"
    }
   },
   "outputs": [],
   "source": [
    "class LinearRegressionModel(nn.Module):\n",
    "    \"\"\"\n",
    "    Define Linear Regression class\n",
    "    \"\"\"\n",
    "\n",
    "    def __init__(self, input_dim, output_dim):\n",
    "        super(LinearRegressionModel, self).__init__() \n",
    "        self.linear = nn.Linear(input_dim, output_dim)  # neural network with 1 layer\n",
    "\n",
    "    def forward(self, x):\n",
    "        return self.linear(x)"
   ]
  },
  {
   "cell_type": "code",
   "execution_count": 36,
   "metadata": {
    "slideshow": {
     "slide_type": "slide"
    }
   },
   "outputs": [],
   "source": [
    "# instantiate Linear Regression\n",
    "\n",
    "model = LinearRegressionModel(10, 1)"
   ]
  },
  {
   "cell_type": "code",
   "execution_count": 37,
   "metadata": {
    "slideshow": {
     "slide_type": "fragment"
    }
   },
   "outputs": [],
   "source": [
    "# define loss functions - Mean Square Error (MSE)\n",
    "\n",
    "criterion = nn.MSELoss() # (y_hat − y)^2,"
   ]
  },
  {
   "cell_type": "code",
   "execution_count": 38,
   "metadata": {
    "slideshow": {
     "slide_type": "fragment"
    }
   },
   "outputs": [],
   "source": [
    "# define learning rate\n",
    "\n",
    "lr = 0.5\n",
    "\n",
    "# define parameter optimizer\n",
    "\n",
    "optimizer = torch.optim.SGD(model.parameters(), lr=lr)"
   ]
  },
  {
   "cell_type": "code",
   "execution_count": 39,
   "metadata": {
    "slideshow": {
     "slide_type": "fragment"
    }
   },
   "outputs": [
    {
     "data": {
      "text/plain": [
       "[Parameter containing:\n",
       " tensor([[-0.1113,  0.2761, -0.1605,  0.0476,  0.2351, -0.1523, -0.0477, -0.1117,\n",
       "          -0.1829,  0.0904]], requires_grad=True), Parameter containing:\n",
       " tensor([-0.0175], requires_grad=True)]"
      ]
     },
     "execution_count": 39,
     "metadata": {},
     "output_type": "execute_result"
    }
   ],
   "source": [
    "list(model.parameters())"
   ]
  },
  {
   "cell_type": "markdown",
   "metadata": {
    "slideshow": {
     "slide_type": "slide"
    }
   },
   "source": [
    "### Main training loop"
   ]
  },
  {
   "cell_type": "code",
   "execution_count": 40,
   "metadata": {
    "slideshow": {
     "slide_type": "fragment"
    }
   },
   "outputs": [
    {
     "name": "stdout",
     "output_type": "stream",
     "text": [
      "epoch 0, loss 29080.962890625\n",
      "epoch 100, loss 3935.114501953125\n",
      "epoch 200, loss 3407.6298828125\n",
      "epoch 300, loss 3194.447998046875\n",
      "epoch 400, loss 3079.576904296875\n",
      "epoch 500, loss 3009.974609375\n",
      "epoch 600, loss 2966.006591796875\n",
      "epoch 700, loss 2937.71337890625\n",
      "epoch 800, loss 2919.281494140625\n",
      "epoch 900, loss 2907.143310546875\n"
     ]
    }
   ],
   "source": [
    "n_epochs = 1000\n",
    "\n",
    "for epoch in range(n_epochs):\n",
    "    \n",
    "    # convert features and target into PyTorch Variable\n",
    "    inputs = Variable(torch.from_numpy(X).float())\n",
    "    targets = Variable(torch.from_numpy(y).float())\n",
    "\n",
    "    # forward pass\n",
    "    outputs = model.forward(inputs)\n",
    "\n",
    "    # calculate loss (MSE)\n",
    "    loss = criterion(outputs, targets)\n",
    "    \n",
    "    # compute gradients\n",
    "    loss.backward()\n",
    "    \n",
    "    # perform one step in the oposite direction to the gradient (update weights)\n",
    "    optimizer.step()\n",
    "    \n",
    "    # clear gradient values after weights are updated\n",
    "    optimizer.zero_grad()\n",
    "    \n",
    "    if epoch % 100 == 0:\n",
    "        print('epoch {}, loss {}'.format(epoch, loss.item()))"
   ]
  },
  {
   "cell_type": "markdown",
   "metadata": {
    "slideshow": {
     "slide_type": "slide"
    }
   },
   "source": [
    "### Measure accuracy"
   ]
  },
  {
   "cell_type": "code",
   "execution_count": 41,
   "metadata": {
    "slideshow": {
     "slide_type": "fragment"
    }
   },
   "outputs": [],
   "source": [
    "# switch to evaluation mode\n",
    "\n",
    "model = model.eval()"
   ]
  },
  {
   "cell_type": "code",
   "execution_count": 42,
   "metadata": {
    "slideshow": {
     "slide_type": "fragment"
    }
   },
   "outputs": [],
   "source": [
    "# predict target variable for the whole dataset\n",
    "\n",
    "with torch.no_grad():\n",
    "    y_pred = model.forward(Variable(torch.from_numpy(X).float()))\n",
    "    y_pred = y_pred.data.numpy()"
   ]
  },
  {
   "cell_type": "code",
   "execution_count": 43,
   "metadata": {
    "slideshow": {
     "slide_type": "fragment"
    }
   },
   "outputs": [
    {
     "data": {
      "text/plain": [
       "0.5111097216523584"
      ]
     },
     "execution_count": 43,
     "metadata": {},
     "output_type": "execute_result"
    }
   ],
   "source": [
    "from sklearn.metrics import r2_score\n",
    "\n",
    "# calculate variance score\n",
    "r2_score(y, y_pred)"
   ]
  },
  {
   "cell_type": "code",
   "execution_count": null,
   "metadata": {},
   "outputs": [],
   "source": []
  }
 ],
 "metadata": {
  "kernelspec": {
   "display_name": "Python 3",
   "language": "python",
   "name": "python3"
  },
  "language_info": {
   "codemirror_mode": {
    "name": "ipython",
    "version": 3
   },
   "file_extension": ".py",
   "mimetype": "text/x-python",
   "name": "python",
   "nbconvert_exporter": "python",
   "pygments_lexer": "ipython3",
   "version": "3.6.7"
  }
 },
 "nbformat": 4,
 "nbformat_minor": 2
}
