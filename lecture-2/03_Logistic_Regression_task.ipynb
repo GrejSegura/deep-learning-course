{
 "cells": [
  {
   "cell_type": "code",
   "execution_count": null,
   "metadata": {},
   "outputs": [],
   "source": [
    "import numpy as np\n",
    "from sklearn.datasets import load_iris\n",
    "\n",
    "import torch\n",
    "from torch import nn\n",
    "from torch.autograd import Variable"
   ]
  },
  {
   "cell_type": "code",
   "execution_count": null,
   "metadata": {},
   "outputs": [],
   "source": [
    "# Load iris dataset\n",
    "\n",
    "data = load_iris()"
   ]
  },
  {
   "cell_type": "code",
   "execution_count": null,
   "metadata": {},
   "outputs": [],
   "source": [
    "X = data.data[:]\n",
    "y = data.target[:]"
   ]
  },
  {
   "cell_type": "code",
   "execution_count": null,
   "metadata": {},
   "outputs": [],
   "source": [
    "# shape of feature matrix\n",
    "\n",
    "X.shape"
   ]
  },
  {
   "cell_type": "code",
   "execution_count": null,
   "metadata": {},
   "outputs": [],
   "source": [
    "y.shape"
   ]
  },
  {
   "cell_type": "code",
   "execution_count": null,
   "metadata": {},
   "outputs": [],
   "source": [
    "# number of unique classes\n",
    "\n",
    "np.unique(y)"
   ]
  },
  {
   "cell_type": "code",
   "execution_count": null,
   "metadata": {},
   "outputs": [],
   "source": [
    "# define Neural Network class\n",
    "\n",
    "class LogisticRegression(nn.Module):\n",
    "    def __init__(self, input_size, num_classes):\n",
    "        super(LogisticRegression, self).__init__()\n",
    "        # << YOUR CODE HERE >>\n",
    "    \n",
    "    def forward(self, x):\n",
    "        # << YOUR CODE HERE >>\n",
    "        return # << YOUR CODE HERE >>"
   ]
  },
  {
   "cell_type": "code",
   "execution_count": null,
   "metadata": {},
   "outputs": [],
   "source": [
    "model = LogisticRegression(# << YOUR CODE HERE >>)"
   ]
  },
  {
   "cell_type": "code",
   "execution_count": null,
   "metadata": {},
   "outputs": [],
   "source": [
    "# https://pytorch.org/docs/stable/optim.html\n",
    "\n",
    "optimizer = # << YOUR CODE HERE >>"
   ]
  },
  {
   "cell_type": "code",
   "execution_count": null,
   "metadata": {},
   "outputs": [],
   "source": [
    "# https://pytorch.org/docs/stable/nn.html\n",
    "\n",
    "criterion = # << YOUR CODE HERE >>"
   ]
  },
  {
   "cell_type": "code",
   "execution_count": null,
   "metadata": {},
   "outputs": [],
   "source": [
    "n_epochs = # << YOUR CODE HERE >>\n",
    "\n",
    "for epoch in range(n_epochs):\n",
    "    \n",
    "    # convert features and target into PyTorch Variable\n",
    "    inputs = Variable(torch.from_numpy(X).float())\n",
    "    targets = Variable(torch.from_numpy(y))\n",
    "\n",
    "    # forward pass\n",
    "    outputs = # << YOUR CODE HERE >>\n",
    "    \n",
    "    # convert predicted probabilities to class labels\n",
    "    _, predicted_labels = torch.max(outputs.data, 1)\n",
    "\n",
    "    # calculate loss (Cross-Entropy)\n",
    "    loss = # << YOUR CODE HERE >>\n",
    "    \n",
    "    # calculate number of correctly predicted data points\n",
    "    corrects = torch.sum(predicted_labels == targets.data).item()\n",
    "    \n",
    "    # compute gradients\n",
    "    # << YOUR CODE HERE >>\n",
    "    \n",
    "    # perform one step in the oposite direction to the gradient (update weights)\n",
    "    # << YOUR CODE HERE >>\n",
    "    \n",
    "    # clear gradient values after weights are updated\n",
    "    # << YOUR CODE HERE >>\n",
    "    \n",
    "    if epoch % 100 == 0:\n",
    "        accuracy = corrects / len(X)\n",
    "        print('epoch = {0}, loss = {1:.6f}, accuracy = {2:.3f}'.format(epoch, loss.item(), accuracy))"
   ]
  },
  {
   "cell_type": "code",
   "execution_count": null,
   "metadata": {},
   "outputs": [],
   "source": []
  }
 ],
 "metadata": {
  "kernelspec": {
   "display_name": "Python 3",
   "language": "python",
   "name": "python3"
  },
  "language_info": {
   "codemirror_mode": {
    "name": "ipython",
    "version": 3
   },
   "file_extension": ".py",
   "mimetype": "text/x-python",
   "name": "python",
   "nbconvert_exporter": "python",
   "pygments_lexer": "ipython3",
   "version": "3.6.7"
  }
 },
 "nbformat": 4,
 "nbformat_minor": 2
}
