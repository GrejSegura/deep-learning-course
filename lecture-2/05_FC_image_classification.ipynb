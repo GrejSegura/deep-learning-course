{
 "cells": [
  {
   "cell_type": "markdown",
   "metadata": {},
   "source": [
    "### Let's build an image classifier"
   ]
  },
  {
   "cell_type": "markdown",
   "metadata": {},
   "source": [
    "### Dataset - MNIST"
   ]
  },
  {
   "cell_type": "markdown",
   "metadata": {},
   "source": [
    "* large database of handwritten digits\n",
    "* contains 60,000 training images and 10,000 testing images\n",
    "* contains digits from 0 to 9\n",
    "* consit of images of size 28x28 pixel\n",
    "* http://yann.lecun.com/exdb/mnist/"
   ]
  },
  {
   "cell_type": "markdown",
   "metadata": {},
   "source": [
    "<center><img src=\"img/mnist.jpeg\" width=\"600\" /></center>"
   ]
  },
  {
   "cell_type": "markdown",
   "metadata": {},
   "source": [
    "### Fully-connected Neural Network"
   ]
  },
  {
   "cell_type": "code",
   "execution_count": 1,
   "metadata": {},
   "outputs": [],
   "source": [
    "import torch\n",
    "import torch.nn as nn\n",
    "import torch.optim as optim\n",
    "import torch.nn.functional as F\n",
    "from torch.autograd import Variable"
   ]
  },
  {
   "cell_type": "code",
   "execution_count": 2,
   "metadata": {},
   "outputs": [],
   "source": [
    "from torchvision import datasets\n",
    "import torchvision.transforms as transforms"
   ]
  },
  {
   "cell_type": "code",
   "execution_count": 3,
   "metadata": {},
   "outputs": [],
   "source": [
    "transformations = transforms.Compose([transforms.ToTensor()])"
   ]
  },
  {
   "cell_type": "code",
   "execution_count": 4,
   "metadata": {},
   "outputs": [],
   "source": [
    "train_set = datasets.MNIST(root='./data', train=True, transform=transformations, download=True)\n",
    "test_set  = datasets.MNIST(root='./data', train=False, transform=transformations, download=True)"
   ]
  },
  {
   "cell_type": "code",
   "execution_count": 5,
   "metadata": {},
   "outputs": [],
   "source": [
    "batch_size = 100"
   ]
  },
  {
   "cell_type": "code",
   "execution_count": 6,
   "metadata": {},
   "outputs": [],
   "source": [
    "train_set_loader = torch.utils.data.DataLoader(\n",
    "    dataset=train_set,\n",
    "    batch_size=batch_size,\n",
    "    shuffle=False\n",
    ")"
   ]
  },
  {
   "cell_type": "code",
   "execution_count": 7,
   "metadata": {},
   "outputs": [],
   "source": [
    "test_set_loader = torch.utils.data.DataLoader(\n",
    "    dataset=test_set,\n",
    "    batch_size=batch_size,\n",
    "    shuffle=False\n",
    ")"
   ]
  },
  {
   "cell_type": "code",
   "execution_count": 8,
   "metadata": {},
   "outputs": [],
   "source": [
    "class FullyConnectedClassifier(nn.Module):\n",
    "    \n",
    "    def __init__(self, input_size, output_size):\n",
    "    \n",
    "        super(FullyConnectedClassifier, self).__init__()\n",
    "\n",
    "        self.fc1 = nn.Linear(input_size, 512)      # 1st hidden layer - 512 neurons\n",
    "        self.fc2 = nn.Linear(512, 256)             # 2nd hidden layer - 256 neurons\n",
    "        self.fc3 = nn.Linear(256, output_size)     # output layer     - 10 classes\n",
    "        \n",
    "    def forward(self, x):\n",
    "\n",
    "        # flatten 2D grayscale image to a vector of 784 elements\n",
    "        x = x.view(-1, 28*28)\n",
    "        \n",
    "        # 1st hidden layer (fully-connected)\n",
    "        x = self.fc1(x)\n",
    "        \n",
    "        # apply non-linear transformation - sigmoid\n",
    "        x = torch.sigmoid(x)\n",
    "\n",
    "        # 2nd hidden layer (fully-connected)        \n",
    "        x = self.fc2(x)\n",
    "        \n",
    "        # apply non-linear transformation - sigmoid\n",
    "        x = torch.sigmoid(x)\n",
    "\n",
    "        # final output layer (fully-connected)\n",
    "        x = self.fc3(x)\n",
    "\n",
    "        # return final result\n",
    "        return x"
   ]
  },
  {
   "cell_type": "code",
   "execution_count": 9,
   "metadata": {},
   "outputs": [],
   "source": [
    "model = FullyConnectedClassifier(28*28, 10)"
   ]
  },
  {
   "cell_type": "code",
   "execution_count": 10,
   "metadata": {},
   "outputs": [],
   "source": [
    "optimizer = optim.SGD(model.parameters(), lr=0.01, momentum=0.9)"
   ]
  },
  {
   "cell_type": "code",
   "execution_count": 11,
   "metadata": {},
   "outputs": [],
   "source": [
    "criterion = nn.CrossEntropyLoss()"
   ]
  },
  {
   "cell_type": "code",
   "execution_count": 12,
   "metadata": {},
   "outputs": [
    {
     "name": "stdout",
     "output_type": "stream",
     "text": [
      "=> epoch: 1, train loss: 0.022181\n",
      "=> epoch: 1, test loss: 0.018247, accuracy: 0.477 \n",
      "\n",
      "=> epoch: 2, train loss: 0.010925\n",
      "=> epoch: 2, test loss: 0.007280, accuracy: 0.780 \n",
      "\n",
      "=> epoch: 3, train loss: 0.005923\n",
      "=> epoch: 3, test loss: 0.004924, accuracy: 0.850 \n",
      "\n",
      "=> epoch: 4, train loss: 0.004551\n",
      "=> epoch: 4, test loss: 0.004155, accuracy: 0.875 \n",
      "\n",
      "=> epoch: 5, train loss: 0.004012\n",
      "=> epoch: 5, test loss: 0.003778, accuracy: 0.889 \n",
      "\n",
      "=> epoch: 6, train loss: 0.003717\n",
      "=> epoch: 6, test loss: 0.003542, accuracy: 0.896 \n",
      "\n",
      "=> epoch: 7, train loss: 0.003522\n",
      "=> epoch: 7, test loss: 0.003371, accuracy: 0.900 \n",
      "\n",
      "=> epoch: 8, train loss: 0.003372\n",
      "=> epoch: 8, test loss: 0.003233, accuracy: 0.905 \n",
      "\n",
      "=> epoch: 9, train loss: 0.003243\n",
      "=> epoch: 9, test loss: 0.003112, accuracy: 0.909 \n",
      "\n",
      "=> epoch: 10, train loss: 0.003126\n",
      "=> epoch: 10, test loss: 0.003002, accuracy: 0.912 \n",
      "\n"
     ]
    }
   ],
   "source": [
    "n_epochs = 10\n",
    "\n",
    "for epoch in range(1, n_epochs+1):\n",
    "\n",
    "    # swith to train mode\n",
    "    model = model.train()\n",
    "    \n",
    "    # global statistics\n",
    "    running_train_loss = 0.\n",
    "    \n",
    "    for batch_idx, (inputs, targets) in enumerate(train_set_loader, start=1):\n",
    "\n",
    "        # convert tensor to autograd.Variable\n",
    "        inputs, targets = Variable(inputs), Variable(targets)\n",
    "\n",
    "        # forward pass\n",
    "        predictions = model.forward(inputs)\n",
    "\n",
    "        # calculate loss - cross-entropy\n",
    "        loss = criterion(predictions, targets)\n",
    "        \n",
    "        # accumulate loss\n",
    "        running_train_loss += loss.item()\n",
    "\n",
    "        # compute gradients\n",
    "        loss.backward()\n",
    "        \n",
    "        # update weights based on calculated gradients\n",
    "        optimizer.step()\n",
    "\n",
    "        # clear all gradients after weights are updated\n",
    "        optimizer.zero_grad()\n",
    "\n",
    "    # print epoch statistics    \n",
    "    epoch_train_loss = running_train_loss / len(train_set_loader.dataset)\n",
    "    print('=> epoch: %d, train loss: %.6f' % (epoch, epoch_train_loss))\n",
    "        \n",
    "    # switch to evaluation/test mode\n",
    "    model = model.eval()\n",
    "\n",
    "    # global statistics\n",
    "    running_test_loss = 0.\n",
    "    running_test_corrects = 0.\n",
    "\n",
    "    # disable calculation of gradients\n",
    "    with torch.no_grad():\n",
    "\n",
    "        for batch_idx, (inputs, targets) in enumerate(test_set_loader, start=1):\n",
    "\n",
    "            # convert tensor to autograd.Variable\n",
    "            inputs, targets = Variable(inputs), Variable(targets)\n",
    "            \n",
    "            # forward pass - make predictions\n",
    "            predictions = model.forward(inputs)\n",
    "\n",
    "            # calculate loss\n",
    "            loss = criterion(predictions, targets)\n",
    "\n",
    "            # convert probability to a predicted label\n",
    "            _, prediction_labels = torch.max(predictions.data, 1)\n",
    "            \n",
    "            # calculate how many digits in the batch where predicted correctly\n",
    "            running_test_corrects += torch.sum(prediction_labels == targets.data).item()\n",
    "\n",
    "            # accumulate loss\n",
    "            running_test_loss += loss.item()\n",
    "\n",
    "    # print epoch statistics    \n",
    "    epoch_test_loss = running_test_loss / len(test_set_loader.dataset)\n",
    "    epoch_test_accuracy = running_test_corrects / len(test_set_loader.dataset)\n",
    "    print('=> epoch: %d, test loss: %.6f, accuracy: %.3f \\n' % (epoch, epoch_test_loss, epoch_test_accuracy))"
   ]
  },
  {
   "cell_type": "code",
   "execution_count": null,
   "metadata": {},
   "outputs": [],
   "source": []
  }
 ],
 "metadata": {
  "kernelspec": {
   "display_name": "Python 3",
   "language": "python",
   "name": "python3"
  },
  "language_info": {
   "codemirror_mode": {
    "name": "ipython",
    "version": 3
   },
   "file_extension": ".py",
   "mimetype": "text/x-python",
   "name": "python",
   "nbconvert_exporter": "python",
   "pygments_lexer": "ipython3",
   "version": "3.6.7"
  }
 },
 "nbformat": 4,
 "nbformat_minor": 2
}
