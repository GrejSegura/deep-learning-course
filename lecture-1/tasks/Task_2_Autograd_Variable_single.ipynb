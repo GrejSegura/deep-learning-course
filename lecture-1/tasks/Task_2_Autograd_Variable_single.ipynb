{
 "cells": [
  {
   "cell_type": "code",
   "execution_count": 1,
   "metadata": {},
   "outputs": [],
   "source": [
    "import numpy as np"
   ]
  },
  {
   "cell_type": "code",
   "execution_count": 2,
   "metadata": {},
   "outputs": [
    {
     "name": "stdout",
     "output_type": "stream",
     "text": [
      "f = 9.00, d f = 1.00\n"
     ]
    }
   ],
   "source": [
    "class Variable:\n",
    "    \n",
    "    def __init__(self, value, derivative, name=None):\n",
    "        self.value = value\n",
    "        self.derivative = derivative\n",
    "        self.name = name\n",
    "\n",
    "    def __add__(self, other): \n",
    "        return Variable(\n",
    "            self.value + other.value,\n",
    "            self.derivative + other.derivative\n",
    "        )\n",
    "    \n",
    "    def __mul__(self, other):\n",
    "        # fill correct value and derivative\n",
    "        return Variable(\n",
    "            self.value * other.value, # <<<--- REPLACE IT\n",
    "            (self.derivative * other.value) * (self.value * other.derivative),  # <<<--- REPLACE  IT\n",
    "        )\n",
    "    \n",
    "    def __pow__(self, other):\n",
    "        # fill correct value and derivative\n",
    "        # assume that other is a number wrapped into variable\n",
    "        return Variable(\n",
    "            self.value ** other.value, # <<<--- REPLACE IT\n",
    "            other.value * (self.value ** (other.value - 1))  # <<<--- REPLACE IT\n",
    "        )\n",
    "\n",
    "    def __repr__(self):\n",
    "        name = 'f' if self.name is None else self.name\n",
    "        return '%s = %0.2f, d %s = %0.2f' % (name, self.value, name, self.derivative)\n",
    "    \n",
    "print(Variable(5, 1) + Variable(4, 0))"
   ]
  },
  {
   "cell_type": "code",
   "execution_count": 3,
   "metadata": {},
   "outputs": [],
   "source": [
    "x = Variable(5, 1)\n",
    "v4 = Variable(4, 0)\n",
    "v2 = Variable(2, 0)\n",
    "vn1 = Variable(-1, 0)"
   ]
  },
  {
   "cell_type": "code",
   "execution_count": 4,
   "metadata": {},
   "outputs": [
    {
     "data": {
      "text/plain": [
       "f = 25.00, d f = 10.00"
      ]
     },
     "execution_count": 4,
     "metadata": {},
     "output_type": "execute_result"
    }
   ],
   "source": [
    "x**v2"
   ]
  },
  {
   "cell_type": "code",
   "execution_count": 5,
   "metadata": {},
   "outputs": [
    {
     "data": {
      "text/plain": [
       "f = 100.00, d f = 0.00"
      ]
     },
     "execution_count": 5,
     "metadata": {},
     "output_type": "execute_result"
    }
   ],
   "source": [
    "v4*x**v2"
   ]
  },
  {
   "cell_type": "code",
   "execution_count": 6,
   "metadata": {},
   "outputs": [
    {
     "data": {
      "text/plain": [
       "f = 10.00, d f = 0.00"
      ]
     },
     "execution_count": 6,
     "metadata": {},
     "output_type": "execute_result"
    }
   ],
   "source": [
    "v2*x"
   ]
  },
  {
   "cell_type": "code",
   "execution_count": 7,
   "metadata": {},
   "outputs": [
    {
     "data": {
      "text/plain": [
       "f = 109.00, d f = 0.00"
      ]
     },
     "execution_count": 7,
     "metadata": {},
     "output_type": "execute_result"
    }
   ],
   "source": [
    "v4*x**v2 + v2*x + vn1"
   ]
  },
  {
   "cell_type": "code",
   "execution_count": 8,
   "metadata": {},
   "outputs": [],
   "source": [
    "x = Variable(5, 1)\n",
    "y = Variable(3, 1)"
   ]
  },
  {
   "cell_type": "code",
   "execution_count": 9,
   "metadata": {},
   "outputs": [
    {
     "data": {
      "text/plain": [
       "f = 15.00, d f = 15.00"
      ]
     },
     "execution_count": 9,
     "metadata": {},
     "output_type": "execute_result"
    }
   ],
   "source": [
    "x*y"
   ]
  },
  {
   "cell_type": "code",
   "execution_count": null,
   "metadata": {},
   "outputs": [],
   "source": []
  }
 ],
 "metadata": {
  "kernelspec": {
   "display_name": "Python 3",
   "language": "python",
   "name": "python3"
  },
  "language_info": {
   "codemirror_mode": {
    "name": "ipython",
    "version": 3
   },
   "file_extension": ".py",
   "mimetype": "text/x-python",
   "name": "python",
   "nbconvert_exporter": "python",
   "pygments_lexer": "ipython3",
   "version": "3.6.4"
  }
 },
 "nbformat": 4,
 "nbformat_minor": 2
}
