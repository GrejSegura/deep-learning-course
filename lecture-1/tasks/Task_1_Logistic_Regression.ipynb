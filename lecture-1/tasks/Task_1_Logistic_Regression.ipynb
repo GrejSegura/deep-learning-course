{
 "cells": [
  {
   "cell_type": "code",
   "execution_count": 1,
   "metadata": {},
   "outputs": [],
   "source": [
    "import numpy as np\n",
    "\n",
    "from sklearn.datasets import load_iris\n",
    "ds = load_iris()\n",
    "\n",
    "from sklearn.preprocessing import StandardScaler\n",
    "for i in range(ds['data'].shape[1]):\n",
    "    ds['data'][:, i] = StandardScaler().fit_transform(ds['data'][:, i].reshape(-1, 1)).flatten()"
   ]
  },
  {
   "cell_type": "code",
   "execution_count": 2,
   "metadata": {},
   "outputs": [
    {
     "name": "stdout",
     "output_type": "stream",
     "text": [
      "(150, 4)\n",
      "['setosa' 'versicolor' 'virginica']\n"
     ]
    },
    {
     "data": {
      "text/plain": [
       "2    50\n",
       "1    50\n",
       "0    50\n",
       "dtype: int64"
      ]
     },
     "execution_count": 2,
     "metadata": {},
     "output_type": "execute_result"
    }
   ],
   "source": [
    "import pandas as pd\n",
    "\n",
    "print(ds.data.shape)\n",
    "print(ds.target_names)\n",
    "pd.Series(ds.target).value_counts()"
   ]
  },
  {
   "cell_type": "code",
   "execution_count": 3,
   "metadata": {},
   "outputs": [
    {
     "name": "stdout",
     "output_type": "stream",
     "text": [
      "0.96 0.6528111380885625\n",
      "0.9933333333333333 0.581164305957222\n",
      "0.9933333333333333 0.5226005581235463\n",
      "0.9933333333333333 0.4743056455314175\n",
      "0.9933333333333333 0.4340636663748048\n",
      "1.0 0.40016604202782335\n",
      "1.0 0.37130600766796784\n",
      "1.0 0.34648422564209497\n",
      "1.0 0.3249328596030666\n",
      "1.0 0.3060575285873605\n",
      "1.0 0.28939400027234946\n",
      "1.0 0.27457620575224617\n",
      "1.0 0.2613126615741007\n",
      "1.0 0.24936903917553097\n",
      "1.0 0.2385552053295628\n",
      "1.0 0.22871551602877224\n",
      "1.0 0.21972148729741592\n",
      "1.0 0.21146621312568262\n",
      "1.0 0.20386007695509364\n",
      "1.0 0.1968274284964393\n",
      "1.0 0.19030398687057962\n",
      "1.0 0.18423479477171179\n",
      "1.0 0.1785725940934609\n",
      "1.0 0.173276526509504\n",
      "1.0 0.16831108655172247\n",
      "1.0 0.16364527236072612\n",
      "1.0 0.15925189230711104\n",
      "1.0 0.15510699537414815\n",
      "1.0 0.15118940045972906\n",
      "1.0 0.1474803052440368\n",
      "1.0 0.1439629594443854\n",
      "1.0 0.14062239047638905\n",
      "1.0 0.13744517200623366\n",
      "1.0 0.1344192277922158\n",
      "1.0 0.13153366470784816\n",
      "1.0 0.12877863001253645\n",
      "1.0 0.12614518886318687\n",
      "1.0 0.1236252187968455\n",
      "1.0 0.12121131850294167\n",
      "1.0 0.11889672867612236\n",
      "1.0 0.1166752631218156\n",
      "1.0 0.1145412485956187\n",
      "1.0 0.11248947210919319\n",
      "1.0 0.11051513464112885\n",
      "1.0 0.10861381036024281\n",
      "1.0 0.10678141060816855\n",
      "1.0 0.10501415200348552\n",
      "1.0 0.10330852812554762\n",
      "1.0 0.10166128431615853\n",
      "1.0 0.10006939520420091\n"
     ]
    }
   ],
   "source": [
    "learning_rate = 0.001\n",
    "n_epochs = 50\n",
    "\n",
    "# parameters of the model\n",
    "# four for features and one is bias\n",
    "w = np.zeros(5)\n",
    "\n",
    "for _ in range(n_epochs):\n",
    "    # accuracy and loss of one epoch\n",
    "    acc_epoch = 0\n",
    "    loss_epoch = 0\n",
    "    for i in range(ds['data'].shape[0]):\n",
    "        x = ds['data'][i, :]\n",
    "        y = int(ds['target'][i] != 0)\n",
    "\n",
    "        # calculate argument of a sigmoid\n",
    "        z = w[0] + np.sum(x * w[1:])  # bias + dot product of features by weights\n",
    "        \n",
    "        # calculate value of the sigmoid\n",
    "        p = 1 / (1 +  np.exp(-z))\n",
    "        \n",
    "        # make a decision\n",
    "        y_pred = int(p >= 0.5)\n",
    "        \n",
    "        # update accuracy\n",
    "        if y_pred == y:\n",
    "            acc_epoch += 1\n",
    "\n",
    "        # calculate and update loss value\n",
    "        loss_epoch += -( y * np.log(p) + (1 - y) * np.log(1 - p) )\n",
    "        \n",
    "        # update parameters of the model\n",
    "        w[0] -= learning_rate * (p - y) * 1\n",
    "        for j in range(x.shape[0]):\n",
    "            w[j + 1] -= learning_rate * (p - y) * x[j]\n",
    "        \n",
    "    # average accuracy and loss and print it\n",
    "    acc_epoch /= ds['data'].shape[0]\n",
    "    loss_epoch /= ds['data'].shape[0]\n",
    "    print(acc_epoch, loss_epoch)"
   ]
  },
  {
   "cell_type": "code",
   "execution_count": null,
   "metadata": {},
   "outputs": [],
   "source": []
  },
  {
   "cell_type": "code",
   "execution_count": null,
   "metadata": {},
   "outputs": [],
   "source": []
  }
 ],
 "metadata": {
  "kernelspec": {
   "display_name": "Python 3",
   "language": "python",
   "name": "python3"
  },
  "language_info": {
   "codemirror_mode": {
    "name": "ipython",
    "version": 3
   },
   "file_extension": ".py",
   "mimetype": "text/x-python",
   "name": "python",
   "nbconvert_exporter": "python",
   "pygments_lexer": "ipython3",
   "version": "3.6.4"
  }
 },
 "nbformat": 4,
 "nbformat_minor": 2
}
